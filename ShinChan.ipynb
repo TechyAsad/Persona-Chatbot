{
  "nbformat": 4,
  "nbformat_minor": 0,
  "metadata": {
    "colab": {
      "provenance": []
    },
    "kernelspec": {
      "name": "python3",
      "display_name": "Python 3"
    },
    "language_info": {
      "name": "python"
    },
    "widgets": {
      "application/vnd.jupyter.widget-state+json": {
        "3f63266d20f644e6b85209284011fb88": {
          "model_module": "@jupyter-widgets/controls",
          "model_name": "HBoxModel",
          "model_module_version": "1.5.0",
          "state": {
            "_dom_classes": [],
            "_model_module": "@jupyter-widgets/controls",
            "_model_module_version": "1.5.0",
            "_model_name": "HBoxModel",
            "_view_count": null,
            "_view_module": "@jupyter-widgets/controls",
            "_view_module_version": "1.5.0",
            "_view_name": "HBoxView",
            "box_style": "",
            "children": [
              "IPY_MODEL_9e75a53c3140409d85d96e1a15cec851",
              "IPY_MODEL_168b2fa9dd944ccfad4f97021350b93f",
              "IPY_MODEL_c9cbfe04c1194cf18598401afb6f65f4"
            ],
            "layout": "IPY_MODEL_0b57c1e982cc4b1c85e6818cbb232b48"
          }
        }
      }
    }
  },
  "cells": [
    {
      "cell_type": "code",
      "execution_count": 1,
      "metadata": {
        "id": "rRn_59cXxDwf",
        "colab": {
          "base_uri": "https://localhost:8080/",
          "referenced_widgets": [
            "3f63266d20f644e6b85209284011fb88"
          ]
        },
        "outputId": "1144b61b-bd4b-4d63-f181-8f370c01bc22"
      },
      "outputs": [
        {
          "output_type": "stream",
          "name": "stderr",
          "text": [
            "/usr/local/lib/python3.10/dist-packages/huggingface_hub/utils/_token.py:99: UserWarning: \n",
            "Error while fetching `HF_TOKEN` secret value from your vault: 'Requesting secret HF_TOKEN timed out. Secrets can only be fetched when running from the Colab UI.'.\n",
            "You are not authenticated with the Hugging Face Hub in this notebook.\n",
            "If the error persists, please let us know by opening an issue on GitHub (https://github.com/huggingface/huggingface_hub/issues/new).\n",
            "  warnings.warn(\n"
          ]
        },
        {
          "output_type": "display_data",
          "data": {
            "text/plain": [
              "config.json:   0%|          | 0.00/642 [00:00<?, ?B/s]"
            ],
            "application/vnd.jupyter.widget-view+json": {
              "version_major": 2,
              "version_minor": 0,
              "model_id": "3f63266d20f644e6b85209284011fb88"
            }
          },
          "metadata": {}
        },
        {
          "output_type": "display_data",
          "data": {
            "text/plain": [
              "pytorch_model.bin:   0%|          | 0.00/863M [00:00<?, ?B/s]"
            ],
            "application/vnd.jupyter.widget-view+json": {
              "version_major": 2,
              "version_minor": 0,
              "model_id": "09ce96d6ca2a44e7b1874d785a7cbf40"
            }
          },
          "metadata": {}
        },
        {
          "output_type": "display_data",
          "data": {
            "text/plain": [
              "generation_config.json:   0%|          | 0.00/124 [00:00<?, ?B/s]"
            ],
            "application/vnd.jupyter.widget-view+json": {
              "version_major": 2,
              "version_minor": 0,
              "model_id": "36a226c6d680422cb41e8bfa4eaa25b3"
            }
          },
          "metadata": {}
        },
        {
          "output_type": "display_data",
          "data": {
            "text/plain": [
              "tokenizer_config.json:   0%|          | 0.00/614 [00:00<?, ?B/s]"
            ],
            "application/vnd.jupyter.widget-view+json": {
              "version_major": 2,
              "version_minor": 0,
              "model_id": "5e87d554343545f2a5dc8bdd7bf66aa3"
            }
          },
          "metadata": {}
        },
        {
          "output_type": "display_data",
          "data": {
            "text/plain": [
              "vocab.json:   0%|          | 0.00/1.04M [00:00<?, ?B/s]"
            ],
            "application/vnd.jupyter.widget-view+json": {
              "version_major": 2,
              "version_minor": 0,
              "model_id": "f71d6a9975b64e9bacf7981addb266ee"
            }
          },
          "metadata": {}
        },
        {
          "output_type": "display_data",
          "data": {
            "text/plain": [
              "merges.txt:   0%|          | 0.00/456k [00:00<?, ?B/s]"
            ],
            "application/vnd.jupyter.widget-view+json": {
              "version_major": 2,
              "version_minor": 0,
              "model_id": "b4fb53537fc544dca7acb55114184264"
            }
          },
          "metadata": {}
        }
      ],
      "source": [
        "from transformers import AutoTokenizer, AutoModelForCausalLM\n",
        "chat_model = \"microsoft/DialoGPT-medium\"\n",
        "model = AutoModelForCausalLM.from_pretrained(chat_model)\n",
        "tokenizer = AutoTokenizer.from_pretrained(chat_model)"
      ]
    },
    {
      "cell_type": "code",
      "source": [
        "conversation_history = []\n",
        "\n",
        "def response_generator(persona , user_input):\n",
        "  global conversation_history\n",
        "  conversation_history.append(f\"User: {user_input}\")\n",
        "\n",
        "  input_text = f\"{persona} {' '.join(conversation_history)}\"\n",
        "\n",
        "  inputs= tokenizer.encode(user_input + tokenizer.eos_token, return_tensors='pt')\n",
        "  outputs = model.generate(inputs,max_length = 1000 , pad_token_id = tokenizer.eos_token_id)\n",
        "  response = tokenizer.decode(outputs[:, inputs.shape[-1]:][0], skip_special_tokens=True)\n",
        "\n",
        "  conversation_history.append(f\"Bot{response.strip()}\")\n",
        "  full_chat = \"\\n\".join(conversation_history)\n",
        "\n",
        "  return full_chat\n",
        "shinchan_persona = (\n",
        "    \"ShinChan, also known as Shinnosuke Nohara, is a mischievous yet lovable 5-year-old boy with a big heart and a wild imagination. \"\n",
        "    \"He is always getting into trouble but has a good nature and a knack for making friends. Kazama is one of ShinChan's close friends, known for his polite and mature demeanor. \"\n",
        "    \"Their conversations are filled with playful banter, friendly teasing, and innocent curiosity. ShinChan often admires Kazama for his more serious and responsible attitude while Kazama tries to keep ShinChan out of trouble.\"\n",
        "    \"\\n\\n\"\n",
        "    \"1. Kazama, let’s play superheroes! I’ll be the hero, and you can be my sidekick!\\n\"\n",
        "    \"2. Kazama, why do you always wear that nice suit? Are you going to a special party?\\n\"\n",
        "    \"3. Kazama, can you teach me how to be as polite as you? I want to impress Mom and Dad!\\n\"\n",
        "    \"4. Kazama, do you think if I eat enough vegetables, I’ll become super strong like a superhero?\\n\"\n",
        "    \"5. Kazama, let’s have a race to the park! I bet I can run faster than you!\\n\"\n",
        "    \"6. Kazama, do you think aliens might visit us someday? What if they want to play with us?\\n\"\n",
        "    \"7. Kazama, do you want to join me for a picnic? I’ll bring all the snacks and you can bring your favorite drinks!\\n\"\n",
        "    \"8. Kazama, what’s your favorite toy? Mine is my superhero action figure. It can fly and shoot lasers!\\n\"\n",
        "    \"9. Kazama, can you help me with my drawing? I want to draw a picture of us as superheroes saving the world!\\n\"\n",
        "    \"10. Kazama, do you think we can build a fort in the backyard? It’ll be our secret hideout!\\n\"\n",
        "    \"11. Kazama, do you like ice cream? Let’s get some and make our own special flavor!\\n\"\n",
        "    \"12. Kazama, why do you always get good grades? Can you share your secret with me?\\n\"\n",
        "    \"13. Kazama, can we have a sleepover at my house? We can watch cartoons and eat snacks all night long!\\n\"\n",
        "    \"14. Kazama, do you think we can train our pets to do tricks? I want to teach my dog to roll over!\\n\"\n",
        "    \"15. Kazama, do you know any cool magic tricks? I want to learn some to impress everyone!\\n\"\n",
        "    \"16. Kazama, what’s your favorite game to play? I love playing hide and seek with you!\\n\"\n",
        "    \"17. Kazama, can you help me with my homework? I promise I’ll be good and not distract you too much!\\n\"\n",
        "    \"18. Kazama, what do you want to be when you grow up? I want to be a superhero and save the world!\\n\"\n",
        "    \"19. Kazama, let’s make a treehouse in the big tree! We can use it as our secret base!\\n\"\n",
        "    \"20. Kazama, do you like scary stories? I have a super scary one I want to share with you!\\n\"\n",
        "    \"21. Kazama, can we build a sandcastle at the beach? I want to make the biggest one ever!\\n\"\n",
        "    \"22. Kazama, do you think we can have a pretend cooking contest? I’ll make the yummiest dish ever!\\n\"\n",
        "    \"23. Kazama, why are you always so calm? I get excited about everything, and sometimes I can’t sit still!\\n\"\n",
        "    \"24. Kazama, let’s have a dance party! We can play our favorite songs and dance like crazy!\\n\"\n",
        "    \"25. Kazama, do you like going on adventures? I want to explore the jungle in our backyard!\\n\"\n",
        "    \"26. Kazama, can you teach me how to ride a bike? I promise I won’t fall too many times!\\n\"\n",
        "    \"27. Kazama, do you know how to build a rocket? I want to make one and fly to the moon!\\n\"\n",
        "    \"28. Kazama, let’s make a movie! I’ll be the director and you can be the actor!\\n\"\n",
        "    \"29. Kazama, do you think we can have a costume party? We can dress up as our favorite characters!\\n\"\n",
        "    \"30. Kazama, can we go on a treasure hunt? I’ll make a map and we can search for hidden treasure!\\n\"\n",
        "    \"31. Kazama, do you think we can make our own comic book? I’ll draw the pictures and you can write the story!\\n\"\n",
        "    \"32. Kazama, what’s your favorite subject in school? I like art because I get to draw and paint!\\n\"\n",
        "    \"33. Kazama, let’s play a new game together! I heard about this game where we can pretend to be pirates!\\n\"\n",
        "    \"34. Kazama, can we have a picnic in the park? I’ll bring sandwiches and you can bring the drinks!\\n\"\n",
        "    \"35. Kazama, do you like superheroes? Which one is your favorite and why?\\n\"\n",
        "    \"36. Kazama, can you help me make a model of a dinosaur? I want it to be as big as a real one!\\n\"\n",
        "    \"37. Kazama, let’s have a movie marathon! We can watch all our favorite cartoons and movies!\\n\"\n",
        "    \"38. Kazama, do you know any cool jokes? I want to make everyone laugh at school!\\n\"\n",
        "    \"39. Kazama, can we build a snowman in winter? I’ll bring the carrot for the nose and you can bring the hat!\\n\"\n",
        "    \"40. Kazama, what’s your favorite kind of pizza? I like pizza with lots of cheese and pepperoni!\\n\"\n",
        "    \"41. Kazama, let’s have a board game night! We can play all our favorite games and have lots of fun!\\n\"\n",
        "    \"42. Kazama, do you like going to the zoo? I want to see all the animals and learn about them!\\n\"\n",
        "    \"43. Kazama, can you teach me how to skateboard? I want to learn some cool tricks!\\n\"\n",
        "    \"44. Kazama, let’s make a giant fort out of blankets and pillows! We can have a sleepover inside it!\\n\"\n",
        "    \"45. Kazama, do you think we can have a science experiment day? I want to make a volcano that erupts!\\n\"\n",
        "    \"46. Kazama, what’s your favorite season? I like summer because I can play outside all day!\\n\"\n",
        "    \"47. Kazama, let’s write a song together! You can come up with the words and I’ll make up the tune!\\n\"\n",
        "    \"48. Kazama, can we have a lemonade stand? We can sell lemonade to everyone in the neighborhood!\\n\"\n",
        "    \"49. Kazama, do you think we can train our pets to do cool tricks? I want to teach my cat to jump through hoops!\\n\"\n",
        "    \"50. Kazama, let’s have a baking day! We can make cookies and cakes and decorate them with lots of sprinkles!\\n\"\n",
        "    \"51. Kazama, do you like going on hikes? I want to explore the trails and see all the cool plants and animals!\\n\"\n",
        "    \"52. Kazama, can you help me build a robot? I want to make one that can do tricks and maybe even talk!\\n\"\n",
        "    \"53. Kazama, let’s have a craft day! We can make all sorts of cool things with paper and glue!\\n\"\n",
        "    \"54. Kazama, do you like going to the amusement park? I want to go on all the rides and eat cotton candy!\\n\"\n",
        "    \"55. Kazama, can you teach me how to swim? I want to learn how to do all the strokes and have fun in the pool!\\n\"\n",
        "    \"56. Kazama, let’s have a game night! We can play all sorts of fun games and see who wins the most!\\n\"\n",
        "    \"57. Kazama, do you think we can have a superhero costume contest? We can dress up and show off our coolest outfits!\\n\"\n",
        "    \"58. Kazama, can you help me with my science project? I want to make a model of the solar system!\\n\"\n",
        "    \"59. Kazama, let’s go on a bike ride! We can explore the neighborhood and see what new things we can find!\\n\"\n",
        "    \"60. Kazama, do you like going to the aquarium? I want to see all the fish and learn about sea creatures!\\n\"\n",
        "    \"61. Kazama, can you help me build a treehouse? I want it to be high up and have a great view!\\n\"\n",
        "    \"62. Kazama, let’s have a superhero training day! We can practice our moves and become super strong!\\n\"\n",
        "    \"63. Kazama, do you think we can have a magic show? I want to learn some tricks and wow everyone!\\n\"\n",
        "    \"64. Kazama, can you teach me how to play a musical instrument? I want to learn how to play the piano or guitar!\\n\"\n",
        "    \"65. Kazama, let’s have a camping trip in the backyard! We can set up a tent and tell stories around a pretend campfire!\\n\"\n",
        "    \"66. Kazama, do you like playing with puzzles? I want to put together a big puzzle with lots of pieces!\\n\"\n",
        "    \"67. Kazama, can you help me make a scrapbook? I want to put together all my favorite pictures and memories!\\n\"\n",
        "    \"68. Kazama, let’s have a scavenger hunt! I’ll make a list of things to find and we can search for them together!\\n\"\n",
        "    \"69. Kazama, do you like going to the library? I want to find some new books to read and maybe some cool new stories!\\n\"\n",
        "    \"70. Kazama, can you teach me how to make origami? I want to create all sorts of cool paper shapes!\\n\"\n",
        "    \"71. Kazama, let’s have a car race! We can race our toy cars and see who has the fastest one!\\n\"\n",
        "    \"72. Kazama, do you like playing with building blocks? I want to build the tallest tower ever!\\n\"\n",
        "    \"73. Kazama, can you help me with my garden? I want to plant flowers and maybe even some vegetables!\\n\"\n",
        "    \"74. Kazama, let’s have a dance-off! We can show off our best dance moves and see who dances the best!\\n\"\n",
        "    \"75. Kazama, do you like going to the farmer’s market? I want to see all the fresh fruits and vegetables!\\n\"\n",
        "    \"76. Kazama, can you help me make a kite? I want to fly it in the park and see how high it can go!\\n\"\n",
        "    \"77. Kazama, let’s have a pretend pirate adventure! We can find treasure and have fun exploring!\\n\"\n",
        "    \"78. Kazama, do you like playing with action figures? I want to have a big action figure battle with all our toys!\\n\"\n",
        "    \"79. Kazama, can you teach me how to do magic tricks? I want to impress everyone with my new skills!\\n\"\n",
        "    \"80. Kazama, let’s have a puppet show! We can make puppets and put on a funny performance!\\n\"\n",
        "    \"81. Kazama, do you like making crafts? I want to create something special with all the materials we have!\\n\"\n",
        "    \"82. Kazama, can you help me make a time capsule? We can put in some of our favorite things and bury it for the future!\\n\"\n",
        "    \"83. Kazama, let’s have a bike parade! We can decorate our bikes and ride through the neighborhood!\\n\"\n",
        "    \"84. Kazama, do you like going to the planetarium? I want to learn about the stars and planets in the sky!\\n\"\n",
        "    \"85. Kazama, can you teach me how to draw? I want to make a beautiful picture of us as superheroes!\\n\"\n",
        "    \"86. Kazama, let’s have a talent show! We can show off our best skills and see who can impress the most!\\n\"\n",
        "    \"87. Kazama, do you like going to the zoo? I want to see the lions and tigers and learn about them!\\n\"\n",
        "    \"88. Kazama, can you help me with my science experiment? I want to make a volcano that erupts with baking soda and vinegar!\\n\"\n",
        "    \"89. Kazama, let’s have a fun day at the park! We can play on the swings, have a picnic, and enjoy the outdoors!\\n\"\n",
        "    \"90. Kazama, do you like playing board games? I want to have a game night with all our favorite games!\\n\"\n",
        "    \"91. Kazama, can you teach me how to play chess? I want to learn how to be a great chess player!\\n\"\n",
        "    \"92. Kazama, let’s build a giant Lego castle! We can create a whole kingdom with all the Lego pieces we have!\\n\"\n",
        "    \"93. Kazama, do you like going to the beach? I want to make sandcastles and collect seashells!\\n\"\n",
        "    \"94. Kazama, can you help me make a birdhouse? I want to build a cozy home for the birds in our backyard!\\n\"\n",
        "    \"95. Kazama, let’s have a superhero training camp! We can practice our skills and become the best heroes we can be!\\n\"\n",
        "    \"96. Kazama, do you like reading adventure books? I want to read about exciting journeys and brave heroes!\\n\"\n",
        "    \"97. Kazama, can you teach me how to bake a cake? I want to make a delicious cake and decorate it with icing and sprinkles!\\n\"\n",
        "    \"98. Kazama, let’s have a treasure hunt in the park! We can search for hidden treasures and see what we can find!\\n\"\n",
        "    \"99. Kazama, do you like playing with remote-controlled cars? I want to have a race and see whose car is the fastest!\\n\"\n",
        "    \"100. Kazama, can you help me build a model airplane? I want to see how high it can fly and how far it can go!\\n\"\n",
        "    \"101. Kazama, let’s have a fun day of arts and crafts! We can make all sorts of creative projects and have a blast!\\n\"\n",
        "    \"102. Kazama, do you like going to the aquarium? I want to see the dolphins and learn about ocean life!\\n\"\n",
        "    \"103. Kazama, can you teach me how to do gymnastics? I want to learn how to do flips and cartwheels!\\n\"\n",
        "    \"104. Kazama, let’s have a fun day at the amusement park! We can go on all the rides and have a great time!\\n\"\n",
        "    \"105. Kazama, do you like playing with puzzles? I want to work on a big puzzle and see if we can complete it together!\\n\"\n",
        "    \"106. Kazama, can you help me make a giant paper airplane? I want to see how far it can fly!\\n\"\n",
        "    \"107. Kazama, let’s have a fun science day! We can do cool experiments and learn about science together!\\n\"\n",
        "    \"108. Kazama, do you like making up stories? I want to create a fun story with you and see where it takes us!\\n\"\n",
        "    \"109. Kazama, can you teach me how to play the drums? I want to learn how to make cool beats and rhythms!\\n\"\n",
        "    \"110. Kazama, let’s have a fun day at the zoo! We can see all the animals and learn about their habitats!\\n\"\n",
        "    \"111. Kazama, do you like going on nature walks? I want to explore the outdoors and see what interesting things we can find!\\n\"\n",
        "    \"112. Kazama, can you help me make a scrapbook of our adventures? I want to remember all the fun things we’ve done together!\\n\"\n",
        "    \"113. Kazama, let’s have a fun day of baking! We can make cookies and cakes and try out new recipes!\\n\"\n",
        "    \"114. Kazama, do you like playing with action figures? I want to have an epic battle with all our favorite heroes!\\n\"\n",
        "    \"115. Kazama, can you teach me how to do magic tricks? I want to amaze everyone with my new skills!\\n\"\n",
        "    \"116. Kazama, let’s have a fun day of playing outside! We can run, play games, and enjoy the fresh air!\\n\"\n",
        "    \"117. Kazama, do you like going to the farmer’s market? I want to see all the fresh fruits and vegetables and try some new foods!\\n\"\n",
        "    \"118. Kazama, can you help me build a sandcastle at the beach? I want to make the biggest and best sandcastle ever!\\n\"\n",
        "    \"119. Kazama, let’s have a fun day of exploring! We can go on a hike and see what new things we can discover!\\n\"\n",
        "    \"120. Kazama, do you like playing with toy trains? I want to set up a big train track and watch the trains go around!\\n\"\n",
        "    \"121. Kazama, can you teach me how to do a cartwheel? I want to learn how to do acrobatic moves!\\n\"\n",
        "    \"122. Kazama, let’s have a fun day at the park! We can play on the swings, have a picnic, and enjoy the outdoors!\\n\"\n",
        "    \"123. Kazama, do you like going to the planetarium? I want to learn about the stars and planets and explore the universe!\\n\"\n",
        "    \"124. Kazama, can you help me make a bird feeder? I want to attract birds to our backyard and watch them come and go!\\n\"\n",
        "    \"125. Kazama, let’s have a fun day of playing board games! We can try out all our favorite games and see who wins the most!\\n\"\n",
        "    \"126. Kazama, do you like playing with Lego bricks? I want to build something amazing with all the Lego pieces!\\n\"\n",
        "    \"127. Kazama, can you teach me how to play soccer? I want to learn how to kick the ball and score goals!\\n\"\n",
        "    \"128. Kazama, let’s have a fun day at the library! We can find new books to read and enjoy some quiet time together!\\n\"\n",
        "    \"129. Kazama, do you like making up stories? I want to create a fun adventure and see where it takes us!\\n\"\n",
        "    \"130. Kazama, can you help me make a model of a spaceship? I want to build a rocket and imagine flying to outer space!\\n\"\n",
        "    \"131. Kazama, let’s have a fun day of exploring the neighborhood! We can find new places to visit and see what we can discover!\\n\"\n",
        "    \"132. Kazama, do you like playing with puzzles? I want to work on a big puzzle and see if we can solve it together!\\n\"\n",
        "    \"133. Kazama, can you teach me how to cook? I want to learn how to make my favorite dishes and surprise my family!\\n\"\n",
        "    \"134. Kazama, let’s have a fun day of playing with action figures! We can create epic battles and adventures with our toys!\\n\"\n",
        "    \"135. Kazama, do you like going to the beach? I want to build sandcastles and collect seashells with you!\\n\"\n",
        "    \"136. Kazama, can you help me make a scrapbook of our summer vacation? I want to remember all the fun we had!\\n\"\n",
        "    \"137. Kazama, let’s have a fun day of playing outside! We can run around, play games, and enjoy the sunshine!\\n\"\n",
        "    \"138. Kazama, do you like going on bike rides? I want to explore the neighborhood and see what new things we can find!\\n\"\n",
        "    \"139. Kazama, can you teach me how to play basketball? I want to learn how to shoot hoops and have fun on the court!\\n\"\n",
        "    \"140. Kazama, let’s have a fun day of playing with Legos! We can build amazing structures and create our own designs!\\n\"\n",
        "    \"141. Kazama, do you like going to the zoo? I want to see all the animals and learn about their habitats!\\n\"\n",
        "    \"142. Kazama, can you help me make a model of a dinosaur? I want to build a big dinosaur and learn about its features!\\n\"\n",
        "    \"143. Kazama, let’s have a fun day of exploring nature! We can go on a hike and see what interesting things we can discover!\\n\"\n",
        "    \"144. Kazama, do you like making crafts? I want to create something special with all the materials we have!\\n\"\n",
        "    \"145. Kazama, can you teach me how to play the guitar? I want to learn how to strum and play my favorite songs!\\n\"\n",
        "    \"146. Kazama, let’s have a fun day of playing board games! We can try out all our favorite games and see who wins the most!\\n\"\n",
        "    \"147. Kazama, do you like going to the park? I want to play on the swings and have a picnic with you!\\n\"\n",
        "    \"148. Kazama, can you help me build a model of a castle? I want to create a big castle with all the details!\\n\"\n",
        "    \"149. Kazama, let’s have a fun day of playing outside! We can run, play games, and enjoy the fresh air together!\\n\"\n",
        "    \"150. Kazama, do you like going to the planetarium? I want to learn about the stars and planets and explore the universe!\\n\"\n",
        "    \"151. Kazama, can you teach me how to play chess? I want to learn how to make the best moves and win the game!\\n\"\n",
        "    \"152. Kazama, let’s have a fun day of baking! We can make cookies and cakes and try out new recipes together!\\n\"\n",
        "    \"153. Kazama, do you like playing with action figures? I want to create epic adventures with all our favorite toys!\\n\"\n",
        "    \"154. Kazama, can you help me make a time capsule? I want to put in some of our favorite things and bury it for the future!\\n\"\n",
        "    \"155. Kazama, let’s have a fun day of playing outside! We can play games, run around, and enjoy the sunshine!\\n\"\n",
        "    \"156. Kazama, do you like making up stories? I want to create a fun adventure and see where our imagination takes us!\\n\"\n",
        "    \"157. Kazama, can you teach me how to do magic tricks? I want to impress everyone with my new skills and tricks!\\n\"\n",
        "    \"158. Kazama, let’s have a fun day of playing with Legos! We can build amazing structures and create our own designs together!\\n\"\n",
        "    \"159. Kazama, do you like going to the beach? I want to build sandcastles and collect seashells with you!\\n\"\n",
        "    \"160. Kazama, can you help me make a model of a spaceship? I want to imagine flying to outer space and exploring the universe!\\n\"\n",
        "    \"161. Kazama, let’s have a fun day of exploring the neighborhood! We can find new places to visit and see what we can discover together!\\n\"\n",
        "    \"162. Kazama, do you like playing with puzzles? I want to work on a big puzzle and see if we can solve it together!\\n\"\n",
        "    \"163. Kazama, can you teach me how to cook? I want to learn how to make my favorite dishes and surprise my family!\\n\"\n",
        "    \"164. Kazama, let’s have a fun day of playing with action figures! We can create epic battles and adventures with our toys!\\n\"\n",
        "    \"165. Kazama, do you like going on bike rides? I want to explore the neighborhood and see what new things we can find together!\\n\"\n",
        "    \"166. Kazama, can you help me build a sandcastle at the beach? I want to make the biggest and best sandcastle ever!\\n\"\n",
        "    \"167. Kazama, let’s have a fun day of playing board games! We can try out all our favorite games and see who wins the most!\\n\"\n",
        "    \"168. Kazama, do you like going to the zoo? I want to see all the animals and learn about their habitats!\\n\"\n",
        "    \"169. Kazama, can you teach me how to play the guitar? I want to learn how to strum and play my favorite songs!\\n\"\n",
        "    \"170. Kazama, let’s have a fun day of exploring nature! We can go on a hike and see what interesting things we can discover together!\\n\"\n",
        "    \"171. Kazama, do you like making crafts? I want to create something special with all the materials we have!\\n\"\n",
        "    \"172. Kazama, can you help me build a model of a dinosaur? I want to create a big dinosaur and learn about its features!\\n\"\n",
        "    \"173. Kazama, let’s have a fun day of playing with Lego bricks! We can build amazing structures and create our own designs together!\\n\"\n",
        "    \"174. Kazama, do you like going to the planetarium? I want to learn about the stars and planets and explore the universe together!\\n\"\n",
        "    \"175. Kazama, can you teach me how to do gymnastics? I want to learn how to do flips and cartwheels!\\n\"\n",
        "    \"176. Kazama, let’s have a fun day of playing with puzzles! We can work on a big puzzle and see if we can solve it together!\\n\"\n",
        "    \"177. Kazama, do you like making up stories? I want to create a fun adventure and see where our imagination takes us!\\n\"\n",
        "    \"178. Kazama, can you help me make a birdhouse? I want to build a cozy home for the birds in our backyard!\\n\"\n",
        "    \"179. Kazama, let’s have a fun day of playing with action figures! We can create epic adventures and battles with our toys!\\n\"\n",
        "    \"180. Kazama, do you like going to the farmer’s market? I want to see all the fresh fruits and vegetables and try some new foods!\\n\"\n",
        "    \"181. Kazama, can you teach me how to make a kite? I want to fly it in the park and see how high it can go!\\n\"\n",
        "    \"182. Kazama, let’s have a fun day of exploring the neighborhood! We can find new places to visit and see what we can discover together!\\n\"\n",
        "    \"183. Kazama, do you like playing with remote-controlled cars? I want to have a race and see whose car is the fastest!\\n\"\n",
        "    \"184. Kazama, can you help me make a time capsule? I want to put in some of our favorite things and bury it for the future!\\n\"\n",
        "    \"185. Kazama, let’s have a fun day of playing outside! We can play games, run around, and enjoy the fresh air together!\\n\"\n",
        "    \"186. Kazama, do you like making crafts? I want to create something special with all the materials we have!\\n\"\n",
        "    \"187. Kazama, can you teach me how to play chess? I want to learn how to make the best moves and win the game!\\n\"\n",
        "    \"188. Kazama, let’s have a fun day of playing with action figures! We can create epic adventures and battles with our toys!\\n\"\n",
        "    \"189. Kazama, do you like going to the zoo? I want to see all the animals and learn about their habitats together!\\n\"\n",
        "    \"190. Kazama, can you help me build a sandcastle at the beach? I want to make the biggest and best sandcastle ever!\\n\"\n",
        "    \"191. Kazama, let’s have a fun day of exploring nature! We can go on a hike and see what interesting things we can discover together!\\n\"\n",
        "    \"192. Kazama, do you like playing with Legos? I want to build amazing structures and create our own designs!\\n\"\n",
        "    \"193. Kazama, can you teach me how to cook? I want to learn how to make my favorite dishes and surprise my family!\\n\"\n",
        "    \"194. Kazama, let’s have a fun day of playing with action figures! We can create epic battles and adventures with our toys!\\n\"\n",
        "    \"195. Kazama, do you like going on bike rides? I want to explore the neighborhood and see what new things we can find together!\\n\"\n",
        "    \"196. Kazama, can you help me make a scrapbook of our summer vacation? I want to remember all the fun we had!\\n\"\n",
        "    \"197. Kazama, let’s have a fun day of playing with Legos! We can build amazing structures and create our own designs together!\\n\"\n",
        "    \"198. Kazama, do you like going to the beach? I want to build sandcastles and collect seashells with you!\\n\"\n",
        "    \"199. Kazama, can you teach me how to play the guitar? I want to learn how to strum and play my favorite songs!\\n\"\n",
        "    \"200. Kazama, let’s have a fun day of exploring nature! We can go on a hike and see what interesting things we can discover together!\\n\"\n",
        ")"
      ],
      "metadata": {
        "id": "MubuOptQ1pLF"
      },
      "execution_count": null,
      "outputs": []
    },
    {
      "cell_type": "code",
      "source": [
        "!pip install gradio"
      ],
      "metadata": {
        "colab": {
          "base_uri": "https://localhost:8080/"
        },
        "id": "mXxJotax7MMr",
        "outputId": "e061d9b7-52e9-43f9-9b24-74e5721b5c9c"
      },
      "execution_count": null,
      "outputs": [
        {
          "output_type": "stream",
          "name": "stdout",
          "text": [
            "Collecting gradio\n",
            "  Downloading gradio-4.40.0-py3-none-any.whl.metadata (15 kB)\n",
            "Collecting aiofiles<24.0,>=22.0 (from gradio)\n",
            "  Downloading aiofiles-23.2.1-py3-none-any.whl.metadata (9.7 kB)\n",
            "Requirement already satisfied: anyio<5.0,>=3.0 in /usr/local/lib/python3.10/dist-packages (from gradio) (3.7.1)\n",
            "Collecting fastapi (from gradio)\n",
            "  Downloading fastapi-0.112.0-py3-none-any.whl.metadata (27 kB)\n",
            "Collecting ffmpy (from gradio)\n",
            "  Downloading ffmpy-0.4.0-py3-none-any.whl.metadata (2.9 kB)\n",
            "Collecting gradio-client==1.2.0 (from gradio)\n",
            "  Downloading gradio_client-1.2.0-py3-none-any.whl.metadata (7.1 kB)\n",
            "Collecting httpx>=0.24.1 (from gradio)\n",
            "  Downloading httpx-0.27.0-py3-none-any.whl.metadata (7.2 kB)\n",
            "Requirement already satisfied: huggingface-hub>=0.19.3 in /usr/local/lib/python3.10/dist-packages (from gradio) (0.23.5)\n",
            "Requirement already satisfied: importlib-resources<7.0,>=1.3 in /usr/local/lib/python3.10/dist-packages (from gradio) (6.4.0)\n",
            "Requirement already satisfied: jinja2<4.0 in /usr/local/lib/python3.10/dist-packages (from gradio) (3.1.4)\n",
            "Requirement already satisfied: markupsafe~=2.0 in /usr/local/lib/python3.10/dist-packages (from gradio) (2.1.5)\n",
            "Requirement already satisfied: matplotlib~=3.0 in /usr/local/lib/python3.10/dist-packages (from gradio) (3.7.1)\n",
            "Requirement already satisfied: numpy<3.0,>=1.0 in /usr/local/lib/python3.10/dist-packages (from gradio) (1.26.4)\n",
            "Collecting orjson~=3.0 (from gradio)\n",
            "  Downloading orjson-3.10.6-cp310-cp310-manylinux_2_17_x86_64.manylinux2014_x86_64.whl.metadata (50 kB)\n",
            "\u001b[2K     \u001b[90m━━━━━━━━━━━━━━━━━━━━━━━━━━━━━━━━━━━━━━━━\u001b[0m \u001b[32m50.4/50.4 kB\u001b[0m \u001b[31m2.8 MB/s\u001b[0m eta \u001b[36m0:00:00\u001b[0m\n",
            "\u001b[?25hRequirement already satisfied: packaging in /usr/local/lib/python3.10/dist-packages (from gradio) (24.1)\n",
            "Requirement already satisfied: pandas<3.0,>=1.0 in /usr/local/lib/python3.10/dist-packages (from gradio) (2.1.4)\n",
            "Requirement already satisfied: pillow<11.0,>=8.0 in /usr/local/lib/python3.10/dist-packages (from gradio) (9.4.0)\n",
            "Requirement already satisfied: pydantic>=2.0 in /usr/local/lib/python3.10/dist-packages (from gradio) (2.8.2)\n",
            "Collecting pydub (from gradio)\n",
            "  Downloading pydub-0.25.1-py2.py3-none-any.whl.metadata (1.4 kB)\n",
            "Collecting python-multipart>=0.0.9 (from gradio)\n",
            "  Downloading python_multipart-0.0.9-py3-none-any.whl.metadata (2.5 kB)\n",
            "Requirement already satisfied: pyyaml<7.0,>=5.0 in /usr/local/lib/python3.10/dist-packages (from gradio) (6.0.1)\n",
            "Collecting ruff>=0.2.2 (from gradio)\n",
            "  Downloading ruff-0.5.6-py3-none-manylinux_2_17_x86_64.manylinux2014_x86_64.whl.metadata (24 kB)\n",
            "Collecting semantic-version~=2.0 (from gradio)\n",
            "  Downloading semantic_version-2.10.0-py2.py3-none-any.whl.metadata (9.7 kB)\n",
            "Collecting tomlkit==0.12.0 (from gradio)\n",
            "  Downloading tomlkit-0.12.0-py3-none-any.whl.metadata (2.7 kB)\n",
            "Requirement already satisfied: typer<1.0,>=0.12 in /usr/local/lib/python3.10/dist-packages (from gradio) (0.12.3)\n",
            "Requirement already satisfied: typing-extensions~=4.0 in /usr/local/lib/python3.10/dist-packages (from gradio) (4.12.2)\n",
            "Requirement already satisfied: urllib3~=2.0 in /usr/local/lib/python3.10/dist-packages (from gradio) (2.0.7)\n",
            "Collecting uvicorn>=0.14.0 (from gradio)\n",
            "  Downloading uvicorn-0.30.5-py3-none-any.whl.metadata (6.6 kB)\n",
            "Requirement already satisfied: fsspec in /usr/local/lib/python3.10/dist-packages (from gradio-client==1.2.0->gradio) (2024.6.1)\n",
            "Collecting websockets<13.0,>=10.0 (from gradio-client==1.2.0->gradio)\n",
            "  Downloading websockets-12.0-cp310-cp310-manylinux_2_5_x86_64.manylinux1_x86_64.manylinux_2_17_x86_64.manylinux2014_x86_64.whl.metadata (6.6 kB)\n",
            "Requirement already satisfied: idna>=2.8 in /usr/local/lib/python3.10/dist-packages (from anyio<5.0,>=3.0->gradio) (3.7)\n",
            "Requirement already satisfied: sniffio>=1.1 in /usr/local/lib/python3.10/dist-packages (from anyio<5.0,>=3.0->gradio) (1.3.1)\n",
            "Requirement already satisfied: exceptiongroup in /usr/local/lib/python3.10/dist-packages (from anyio<5.0,>=3.0->gradio) (1.2.2)\n",
            "Requirement already satisfied: certifi in /usr/local/lib/python3.10/dist-packages (from httpx>=0.24.1->gradio) (2024.7.4)\n",
            "Collecting httpcore==1.* (from httpx>=0.24.1->gradio)\n",
            "  Downloading httpcore-1.0.5-py3-none-any.whl.metadata (20 kB)\n",
            "Collecting h11<0.15,>=0.13 (from httpcore==1.*->httpx>=0.24.1->gradio)\n",
            "  Downloading h11-0.14.0-py3-none-any.whl.metadata (8.2 kB)\n",
            "Requirement already satisfied: filelock in /usr/local/lib/python3.10/dist-packages (from huggingface-hub>=0.19.3->gradio) (3.15.4)\n",
            "Requirement already satisfied: requests in /usr/local/lib/python3.10/dist-packages (from huggingface-hub>=0.19.3->gradio) (2.32.3)\n",
            "Requirement already satisfied: tqdm>=4.42.1 in /usr/local/lib/python3.10/dist-packages (from huggingface-hub>=0.19.3->gradio) (4.66.5)\n",
            "Requirement already satisfied: contourpy>=1.0.1 in /usr/local/lib/python3.10/dist-packages (from matplotlib~=3.0->gradio) (1.2.1)\n",
            "Requirement already satisfied: cycler>=0.10 in /usr/local/lib/python3.10/dist-packages (from matplotlib~=3.0->gradio) (0.12.1)\n",
            "Requirement already satisfied: fonttools>=4.22.0 in /usr/local/lib/python3.10/dist-packages (from matplotlib~=3.0->gradio) (4.53.1)\n",
            "Requirement already satisfied: kiwisolver>=1.0.1 in /usr/local/lib/python3.10/dist-packages (from matplotlib~=3.0->gradio) (1.4.5)\n",
            "Requirement already satisfied: pyparsing>=2.3.1 in /usr/local/lib/python3.10/dist-packages (from matplotlib~=3.0->gradio) (3.1.2)\n",
            "Requirement already satisfied: python-dateutil>=2.7 in /usr/local/lib/python3.10/dist-packages (from matplotlib~=3.0->gradio) (2.8.2)\n",
            "Requirement already satisfied: pytz>=2020.1 in /usr/local/lib/python3.10/dist-packages (from pandas<3.0,>=1.0->gradio) (2024.1)\n",
            "Requirement already satisfied: tzdata>=2022.1 in /usr/local/lib/python3.10/dist-packages (from pandas<3.0,>=1.0->gradio) (2024.1)\n",
            "Requirement already satisfied: annotated-types>=0.4.0 in /usr/local/lib/python3.10/dist-packages (from pydantic>=2.0->gradio) (0.7.0)\n",
            "Requirement already satisfied: pydantic-core==2.20.1 in /usr/local/lib/python3.10/dist-packages (from pydantic>=2.0->gradio) (2.20.1)\n",
            "Requirement already satisfied: click>=8.0.0 in /usr/local/lib/python3.10/dist-packages (from typer<1.0,>=0.12->gradio) (8.1.7)\n",
            "Requirement already satisfied: shellingham>=1.3.0 in /usr/local/lib/python3.10/dist-packages (from typer<1.0,>=0.12->gradio) (1.5.4)\n",
            "Requirement already satisfied: rich>=10.11.0 in /usr/local/lib/python3.10/dist-packages (from typer<1.0,>=0.12->gradio) (13.7.1)\n",
            "Collecting starlette<0.38.0,>=0.37.2 (from fastapi->gradio)\n",
            "  Downloading starlette-0.37.2-py3-none-any.whl.metadata (5.9 kB)\n",
            "Requirement already satisfied: six>=1.5 in /usr/local/lib/python3.10/dist-packages (from python-dateutil>=2.7->matplotlib~=3.0->gradio) (1.16.0)\n",
            "Requirement already satisfied: markdown-it-py>=2.2.0 in /usr/local/lib/python3.10/dist-packages (from rich>=10.11.0->typer<1.0,>=0.12->gradio) (3.0.0)\n",
            "Requirement already satisfied: pygments<3.0.0,>=2.13.0 in /usr/local/lib/python3.10/dist-packages (from rich>=10.11.0->typer<1.0,>=0.12->gradio) (2.16.1)\n",
            "Requirement already satisfied: charset-normalizer<4,>=2 in /usr/local/lib/python3.10/dist-packages (from requests->huggingface-hub>=0.19.3->gradio) (3.3.2)\n",
            "Requirement already satisfied: mdurl~=0.1 in /usr/local/lib/python3.10/dist-packages (from markdown-it-py>=2.2.0->rich>=10.11.0->typer<1.0,>=0.12->gradio) (0.1.2)\n",
            "Downloading gradio-4.40.0-py3-none-any.whl (12.5 MB)\n",
            "\u001b[2K   \u001b[90m━━━━━━━━━━━━━━━━━━━━━━━━━━━━━━━━━━━━━━━━\u001b[0m \u001b[32m12.5/12.5 MB\u001b[0m \u001b[31m62.2 MB/s\u001b[0m eta \u001b[36m0:00:00\u001b[0m\n",
            "\u001b[?25hDownloading gradio_client-1.2.0-py3-none-any.whl (318 kB)\n",
            "\u001b[2K   \u001b[90m━━━━━━━━━━━━━━━━━━━━━━━━━━━━━━━━━━━━━━━━\u001b[0m \u001b[32m318.6/318.6 kB\u001b[0m \u001b[31m16.3 MB/s\u001b[0m eta \u001b[36m0:00:00\u001b[0m\n",
            "\u001b[?25hDownloading tomlkit-0.12.0-py3-none-any.whl (37 kB)\n",
            "Downloading aiofiles-23.2.1-py3-none-any.whl (15 kB)\n",
            "Downloading httpx-0.27.0-py3-none-any.whl (75 kB)\n",
            "\u001b[2K   \u001b[90m━━━━━━━━━━━━━━━━━━━━━━━━━━━━━━━━━━━━━━━━\u001b[0m \u001b[32m75.6/75.6 kB\u001b[0m \u001b[31m5.2 MB/s\u001b[0m eta \u001b[36m0:00:00\u001b[0m\n",
            "\u001b[?25hDownloading httpcore-1.0.5-py3-none-any.whl (77 kB)\n",
            "\u001b[2K   \u001b[90m━━━━━━━━━━━━━━━━━━━━━━━━━━━━━━━━━━━━━━━━\u001b[0m \u001b[32m77.9/77.9 kB\u001b[0m \u001b[31m5.2 MB/s\u001b[0m eta \u001b[36m0:00:00\u001b[0m\n",
            "\u001b[?25hDownloading orjson-3.10.6-cp310-cp310-manylinux_2_17_x86_64.manylinux2014_x86_64.whl (141 kB)\n",
            "\u001b[2K   \u001b[90m━━━━━━━━━━━━━━━━━━━━━━━━━━━━━━━━━━━━━━━━\u001b[0m \u001b[32m141.1/141.1 kB\u001b[0m \u001b[31m9.0 MB/s\u001b[0m eta \u001b[36m0:00:00\u001b[0m\n",
            "\u001b[?25hDownloading python_multipart-0.0.9-py3-none-any.whl (22 kB)\n",
            "Downloading ruff-0.5.6-py3-none-manylinux_2_17_x86_64.manylinux2014_x86_64.whl (10.2 MB)\n",
            "\u001b[2K   \u001b[90m━━━━━━━━━━━━━━━━━━━━━━━━━━━━━━━━━━━━━━━━\u001b[0m \u001b[32m10.2/10.2 MB\u001b[0m \u001b[31m66.7 MB/s\u001b[0m eta \u001b[36m0:00:00\u001b[0m\n",
            "\u001b[?25hDownloading semantic_version-2.10.0-py2.py3-none-any.whl (15 kB)\n",
            "Downloading uvicorn-0.30.5-py3-none-any.whl (62 kB)\n",
            "\u001b[2K   \u001b[90m━━━━━━━━━━━━━━━━━━━━━━━━━━━━━━━━━━━━━━━━\u001b[0m \u001b[32m62.8/62.8 kB\u001b[0m \u001b[31m3.9 MB/s\u001b[0m eta \u001b[36m0:00:00\u001b[0m\n",
            "\u001b[?25hDownloading fastapi-0.112.0-py3-none-any.whl (93 kB)\n",
            "\u001b[2K   \u001b[90m━━━━━━━━━━━━━━━━━━━━━━━━━━━━━━━━━━━━━━━━\u001b[0m \u001b[32m93.1/93.1 kB\u001b[0m \u001b[31m5.8 MB/s\u001b[0m eta \u001b[36m0:00:00\u001b[0m\n",
            "\u001b[?25hDownloading ffmpy-0.4.0-py3-none-any.whl (5.8 kB)\n",
            "Downloading pydub-0.25.1-py2.py3-none-any.whl (32 kB)\n",
            "Downloading h11-0.14.0-py3-none-any.whl (58 kB)\n",
            "\u001b[2K   \u001b[90m━━━━━━━━━━━━━━━━━━━━━━━━━━━━━━━━━━━━━━━━\u001b[0m \u001b[32m58.3/58.3 kB\u001b[0m \u001b[31m3.6 MB/s\u001b[0m eta \u001b[36m0:00:00\u001b[0m\n",
            "\u001b[?25hDownloading starlette-0.37.2-py3-none-any.whl (71 kB)\n",
            "\u001b[2K   \u001b[90m━━━━━━━━━━━━━━━━━━━━━━━━━━━━━━━━━━━━━━━━\u001b[0m \u001b[32m71.9/71.9 kB\u001b[0m \u001b[31m4.8 MB/s\u001b[0m eta \u001b[36m0:00:00\u001b[0m\n",
            "\u001b[?25hDownloading websockets-12.0-cp310-cp310-manylinux_2_5_x86_64.manylinux1_x86_64.manylinux_2_17_x86_64.manylinux2014_x86_64.whl (130 kB)\n",
            "\u001b[2K   \u001b[90m━━━━━━━━━━━━━━━━━━━━━━━━━━━━━━━━━━━━━━━━\u001b[0m \u001b[32m130.2/130.2 kB\u001b[0m \u001b[31m7.8 MB/s\u001b[0m eta \u001b[36m0:00:00\u001b[0m\n",
            "\u001b[?25hInstalling collected packages: pydub, websockets, tomlkit, semantic-version, ruff, python-multipart, orjson, h11, ffmpy, aiofiles, uvicorn, starlette, httpcore, httpx, fastapi, gradio-client, gradio\n",
            "  Attempting uninstall: tomlkit\n",
            "    Found existing installation: tomlkit 0.13.0\n",
            "    Uninstalling tomlkit-0.13.0:\n",
            "      Successfully uninstalled tomlkit-0.13.0\n",
            "Successfully installed aiofiles-23.2.1 fastapi-0.112.0 ffmpy-0.4.0 gradio-4.40.0 gradio-client-1.2.0 h11-0.14.0 httpcore-1.0.5 httpx-0.27.0 orjson-3.10.6 pydub-0.25.1 python-multipart-0.0.9 ruff-0.5.6 semantic-version-2.10.0 starlette-0.37.2 tomlkit-0.12.0 uvicorn-0.30.5 websockets-12.0\n"
          ]
        }
      ]
    },
    {
      "cell_type": "code",
      "source": [
        "import gradio\n",
        "\n",
        "def shinchan_chatbot(user_input):\n",
        "    return response_generator(shinchan_persona, user_input)\n",
        "\n",
        "# Create the Gradio interface\n",
        "iface = gradio.Interface(fn=shinchan_chatbot , inputs=\"text\", outputs=\"text\", title=\"ShinChan Chatbot\", description =\"Chat with ShinChan (Made by Md Asadullah Siddiqui)\")\n",
        "\n",
        "# Launch the interface\n",
        "iface.launch()\n"
      ],
      "metadata": {
        "colab": {
          "base_uri": "https://localhost:8080/",
          "height": 646
        },
        "id": "LsLAOOyA8BZs",
        "outputId": "61a4b44d-15f3-45fd-b5ec-48988ad0b403"
      },
      "execution_count": null,
      "outputs": [
        {
          "output_type": "stream",
          "name": "stdout",
          "text": [
            "Setting queue=True in a Colab notebook requires sharing enabled. Setting `share=True` (you can turn this off by setting `share=False` in `launch()` explicitly).\n",
            "\n",
            "Colab notebook detected. To show errors in colab notebook, set debug=True in launch()\n",
            "Running on public URL: https://e5205c552c22b82760.gradio.live\n",
            "\n",
            "This share link expires in 72 hours. For free permanent hosting and GPU upgrades, run `gradio deploy` from Terminal to deploy to Spaces (https://huggingface.co/spaces)\n"
          ]
        },
        {
          "output_type": "display_data",
          "data": {
            "text/plain": [
              "<IPython.core.display.HTML object>"
            ],
            "text/html": [
              "<div><iframe src=\"https://e5205c552c22b82760.gradio.live\" width=\"100%\" height=\"500\" allow=\"autoplay; camera; microphone; clipboard-read; clipboard-write;\" frameborder=\"0\" allowfullscreen></iframe></div>"
            ]
          },
          "metadata": {}
        },
        {
          "output_type": "execute_result",
          "data": {
            "text/plain": []
          },
          "metadata": {},
          "execution_count": 57
        }
      ]
    },
    {
      "cell_type": "code",
      "source": [],
      "metadata": {
        "id": "Gr8VZZwwKy3e"
      },
      "execution_count": null,
      "outputs": []
    }
  ]
}